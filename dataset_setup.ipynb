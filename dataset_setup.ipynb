{
 "cells": [
  {
   "cell_type": "code",
   "execution_count": 22,
   "id": "53d78f19-db59-4106-931d-a180903f6586",
   "metadata": {},
   "outputs": [],
   "source": [
    "import pandas as pd\n",
    "\n",
    "# import networkx as nx\n",
    "import torch\n",
    "\n",
    "promoter_motifs = pd.read_csv('promoter_motif_features.gzip',compression='gzip')\n",
    "motifs_grouping = pd.read_csv('./motif_grouping_from_promoters_HOCOMOCOv11_FIMO.csv',index_col=0)"
   ]
  },
  {
   "cell_type": "code",
   "execution_count": 68,
   "id": "c75ce1ee-6a9b-4029-a358-2cee9d9a748c",
   "metadata": {},
   "outputs": [],
   "source": [
    "gene_ids = promoter_motifs['promoter_gene'].unique()\n",
    "\n",
    "gene_ids = pd.DataFrame(data={\n",
    "    'gene': gene_ids,\n",
    "    'promoter_gene': gene_ids,\n",
    "    'idx': pd.RangeIndex(len(gene_ids)),\n",
    "})\n",
    "gene_ids[ = gene_ids['gene']\n",
    "\n",
    "\n",
    "# gene_nodemap = gene_ids.set_index('gene').to_dict('index')"
   ]
  },
  {
   "cell_type": "code",
   "execution_count": 60,
   "id": "9fceee0e-a2c1-4615-a2ae-857b9f8ad764",
   "metadata": {},
   "outputs": [],
   "source": [
    "family_ids = motifs_grouping['family'].unique()\n",
    "\n",
    "family_ids = pd.DataFrame(data={\n",
    "    'family': motif_ids,\n",
    "    'idx': pd.RangeIndex(len(family_ids)),\n",
    "})\n",
    "\n",
    "# TFfamily_nodemap = family_ids.set_index('family').to_dict('index')"
   ]
  },
  {
   "cell_type": "code",
   "execution_count": 95,
   "id": "b1287152-6b80-49e0-ad83-05043ba948c3",
   "metadata": {
    "tags": []
   },
   "outputs": [],
   "source": [
    "# Map promoter binding families to genes (whose promoter it is)\n",
    "\n",
    "promoters_family_id = pd.merge(promoter_motifs['family'], family_ids,\n",
    "                            left_on='family', right_on='family', how='left')\n",
    "\n",
    "promoters_family_id.drop_na()\n",
    "\n",
    "promoters_gene_id = pd.merge(promoter_motifs['promoter_gene'], gene_ids,\n",
    "                            left_on='promoter_gene', right_on='promoter_gene', how='left')\n",
    "\n",
    "promoters_familyid = torch.from_numpy(promoters_family_id['idx'].values)\n",
    "promoters_geneid = torch.from_numpy(promoters_gene_id['idx'].values)\n",
    "\n",
    "edge_index_family_to_promotergene = torch.stack([promoters_familyid, promoters_geneid], dim=0)\n"
   ]
  },
  {
   "cell_type": "code",
   "execution_count": 83,
   "id": "fc97c665-ca85-447e-ba71-944b237fa5a5",
   "metadata": {
    "tags": []
   },
   "outputs": [],
   "source": [
    "# Map TF genes to TF families\n",
    "\n",
    "family_TFs_familyid = pd.merge(motifs_grouping['family'], family_ids,\n",
    "                            left_on='family', right_on='family', how='left')\n",
    "\n",
    "family_TFs_geneid = pd.merge(motifs_grouping['gene'], gene_ids,\n",
    "                            left_on='gene', right_on='gene', how='left')\n",
    "\n",
    "family_TFs_familyid = torch.from_numpy(family_TFs_familyid['idx'].values)\n",
    "family_TFs_geneid = torch.from_numpy(family_TFs_geneid['idx'].values)\n",
    "\n",
    "edge_index_tfgene_to_family = torch.stack([family_TFs_geneid, family_TFs_familyid], dim=0)\n"
   ]
  },
  {
   "cell_type": "code",
   "execution_count": 99,
   "id": "a3d69060-73a8-4825-a32c-290e8e755ec1",
   "metadata": {
    "tags": []
   },
   "outputs": [
    {
     "data": {
      "text/plain": [
       "0       PRDM5\n",
       "1       NFAC1\n",
       "2       FOXO1\n",
       "3        E2F8\n",
       "4       FOXO4\n",
       "        ...  \n",
       "1622     MSX1\n",
       "1623     EMX1\n",
       "1624     PDX1\n",
       "1625    FOXJ2\n",
       "1626    FOXD1\n",
       "Name: gene, Length: 1627, dtype: object"
      ]
     },
     "execution_count": 99,
     "metadata": {},
     "output_type": "execute_result"
    }
   ],
   "source": [
    "motifs_grouping['gene']"
   ]
  },
  {
   "cell_type": "code",
   "execution_count": 85,
   "id": "4f583320-99ce-4ee1-a704-3dfb57500d97",
   "metadata": {},
   "outputs": [
    {
     "data": {
      "text/plain": [
       "tensor([[6.0410e+03,        nan, 1.5693e+04,  ..., 1.5608e+04, 1.4404e+04,\n",
       "         6.6860e+03],\n",
       "        [0.0000e+00, 1.0000e+00, 2.0000e+00,  ..., 2.9000e+01, 6.0000e+00,\n",
       "         6.0000e+00]], dtype=torch.float64)"
      ]
     },
     "execution_count": 85,
     "metadata": {},
     "output_type": "execute_result"
    }
   ],
   "source": [
    "edge_index_tfgene_to_family"
   ]
  },
  {
   "cell_type": "code",
   "execution_count": 106,
   "id": "93a79e99-f017-42f0-9749-08b472d9249d",
   "metadata": {},
   "outputs": [],
   "source": [
    "from torch_geometric.data import HeteroData\n",
    "\n",
    "cell_graph = HeteroData()\n",
    "cell_graph[\"gene\"].node_id = torch.arange(len(gene_ids))\n",
    "cell_graph[\"tf_family\"].node_id = torch.arange(len(family_ids))\n",
    "\n",
    "cell_graph[\"tf_family\", \"in_promoter\", \"gene\"].edge_index = edge_index_family_to_promotergene\n",
    "cell_graph[\"gene\",\"TF_in_family\",\"tf_family\"].edge_index = edge_index_tfgene_to_family\n",
    "\n",
    "\n",
    "\n",
    "\n"
   ]
  },
  {
   "cell_type": "code",
   "execution_count": 14,
   "id": "3e3745f7-f404-4d6b-b820-38a2e9edf552",
   "metadata": {},
   "outputs": [],
   "source": [
    "# TF_ids = motifs_grouping['gene'].unique()\n",
    "\n",
    "# TF_ids = pd.DataFrame(data={\n",
    "#     'familyID': TF_ids,\n",
    "#     'idx': pd.RangeIndex(len(TF_ids)),\n",
    "# })"
   ]
  },
  {
   "cell_type": "code",
   "execution_count": 23,
   "id": "148b0b0e-b34c-464d-b2a9-c50f1e730314",
   "metadata": {},
   "outputs": [],
   "source": [
    "\n",
    "def family_to_promoter(row, node_map):\n",
    "    self.G = nx.from_pandas_edgelist(self.edge_list, source='family',\n",
    "                        target='promoter_gene', edge_attr=['log10p'],\n",
    "                        create_using=nx.DiGraph())\n",
    "    \n",
    "    edge_index_ = [(family_map[e[0]]['idx'], node_map[e[1]]['idx']) for e in self.G.edges]\n",
    "    self.edge_index = torch.tensor(edge_index_, dtype=torch.long).T\n",
    "\n",
    "    edge_attr = nx.get_edge_attributes(self.G, 'log10p')\n",
    "    importance = np.array([1 for e in self.G.edges])\n",
    "    self.log10p = torch.Tensor(importance)\n",
    "    "
   ]
  },
  {
   "cell_type": "code",
   "execution_count": null,
   "id": "eeefc911-fcd2-4114-88cf-15c7221151ec",
   "metadata": {},
   "outputs": [],
   "source": [
    "family_to_promoter(row, gene_map, family_map)"
   ]
  },
  {
   "cell_type": "code",
   "execution_count": 2,
   "id": "5146e2e4-1429-4ff8-9cca-f108f9266828",
   "metadata": {
    "collapsed": true,
    "jupyter": {
     "outputs_hidden": true
    },
    "tags": []
   },
   "outputs": [
    {
     "data": {
      "text/html": [
       "<div>\n",
       "<style scoped>\n",
       "    .dataframe tbody tr th:only-of-type {\n",
       "        vertical-align: middle;\n",
       "    }\n",
       "\n",
       "    .dataframe tbody tr th {\n",
       "        vertical-align: top;\n",
       "    }\n",
       "\n",
       "    .dataframe thead th {\n",
       "        text-align: right;\n",
       "    }\n",
       "</style>\n",
       "<table border=\"1\" class=\"dataframe\">\n",
       "  <thead>\n",
       "    <tr style=\"text-align: right;\">\n",
       "      <th></th>\n",
       "      <th>family</th>\n",
       "      <th>gene</th>\n",
       "      <th>motif</th>\n",
       "    </tr>\n",
       "  </thead>\n",
       "  <tbody>\n",
       "    <tr>\n",
       "      <th>0</th>\n",
       "      <td>PRDM5</td>\n",
       "      <td>PRDM5</td>\n",
       "      <td>PRDM5_MOUSE.H11MO.0.A</td>\n",
       "    </tr>\n",
       "    <tr>\n",
       "      <th>1</th>\n",
       "      <td>NFAC/2</td>\n",
       "      <td>NFAC1</td>\n",
       "      <td>NFAC1_HUMAN.H11MO.0.B</td>\n",
       "    </tr>\n",
       "    <tr>\n",
       "      <th>2</th>\n",
       "      <td>FOX/4</td>\n",
       "      <td>FOXO1</td>\n",
       "      <td>FOXO1_HUMAN.H11MO.0.A</td>\n",
       "    </tr>\n",
       "    <tr>\n",
       "      <th>3</th>\n",
       "      <td>E2F/3</td>\n",
       "      <td>E2F8</td>\n",
       "      <td>E2F8_E2F_1</td>\n",
       "    </tr>\n",
       "    <tr>\n",
       "      <th>4</th>\n",
       "      <td>FOX/7</td>\n",
       "      <td>FOXO4</td>\n",
       "      <td>FOXO4_forkhead_3</td>\n",
       "    </tr>\n",
       "    <tr>\n",
       "      <th>...</th>\n",
       "      <td>...</td>\n",
       "      <td>...</td>\n",
       "      <td>...</td>\n",
       "    </tr>\n",
       "    <tr>\n",
       "      <th>1622</th>\n",
       "      <td>HD/2</td>\n",
       "      <td>MSX1</td>\n",
       "      <td>MSX1_homeodomain_2</td>\n",
       "    </tr>\n",
       "    <tr>\n",
       "      <th>1623</th>\n",
       "      <td>HD/2</td>\n",
       "      <td>EMX1</td>\n",
       "      <td>EMX1_MA0612.1</td>\n",
       "    </tr>\n",
       "    <tr>\n",
       "      <th>1624</th>\n",
       "      <td>HD/2</td>\n",
       "      <td>PDX1</td>\n",
       "      <td>PDX1_MA0132.2</td>\n",
       "    </tr>\n",
       "    <tr>\n",
       "      <th>1625</th>\n",
       "      <td>FOX/5</td>\n",
       "      <td>FOXJ2</td>\n",
       "      <td>FOXJ2_forkhead_2</td>\n",
       "    </tr>\n",
       "    <tr>\n",
       "      <th>1626</th>\n",
       "      <td>FOX/5</td>\n",
       "      <td>FOXD1</td>\n",
       "      <td>FOXD1_MA0031.1</td>\n",
       "    </tr>\n",
       "  </tbody>\n",
       "</table>\n",
       "<p>1627 rows × 3 columns</p>\n",
       "</div>"
      ],
      "text/plain": [
       "      family   gene                  motif\n",
       "0      PRDM5  PRDM5  PRDM5_MOUSE.H11MO.0.A\n",
       "1     NFAC/2  NFAC1  NFAC1_HUMAN.H11MO.0.B\n",
       "2      FOX/4  FOXO1  FOXO1_HUMAN.H11MO.0.A\n",
       "3      E2F/3   E2F8             E2F8_E2F_1\n",
       "4      FOX/7  FOXO4       FOXO4_forkhead_3\n",
       "...      ...    ...                    ...\n",
       "1622    HD/2   MSX1     MSX1_homeodomain_2\n",
       "1623    HD/2   EMX1          EMX1_MA0612.1\n",
       "1624    HD/2   PDX1          PDX1_MA0132.2\n",
       "1625   FOX/5  FOXJ2       FOXJ2_forkhead_2\n",
       "1626   FOX/5  FOXD1         FOXD1_MA0031.1\n",
       "\n",
       "[1627 rows x 3 columns]"
      ]
     },
     "execution_count": 2,
     "metadata": {},
     "output_type": "execute_result"
    }
   ],
   "source": []
  },
  {
   "cell_type": "code",
   "execution_count": null,
   "id": "177eff62-e67b-4514-a995-86167e466ed6",
   "metadata": {},
   "outputs": [],
   "source": []
  }
 ],
 "metadata": {
  "kernelspec": {
   "display_name": "Python 3 (ipykernel)",
   "language": "python",
   "name": "python3"
  },
  "language_info": {
   "codemirror_mode": {
    "name": "ipython",
    "version": 3
   },
   "file_extension": ".py",
   "mimetype": "text/x-python",
   "name": "python",
   "nbconvert_exporter": "python",
   "pygments_lexer": "ipython3",
   "version": "3.9.12"
  }
 },
 "nbformat": 4,
 "nbformat_minor": 5
}
